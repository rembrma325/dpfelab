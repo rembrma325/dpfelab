{
 "cells": [
  {
   "cell_type": "markdown",
   "id": "8c178d0f",
   "metadata": {},
   "source": [
    "# What is a DataFrame?"
   ]
  },
  {
   "cell_type": "markdown",
   "id": "47e7cac5",
   "metadata": {},
   "source": [
    "\n",
    "A Pandas DataFrame is a 2 dimensional data structure, like a 2 dimensional array, or a table with rows and columns."
   ]
  },
  {
   "cell_type": "markdown",
   "id": "73c57f83",
   "metadata": {},
   "source": [
    "# creating a DataFrame"
   ]
  },
  {
   "cell_type": "code",
   "execution_count": 1,
   "id": "53d0bf40",
   "metadata": {},
   "outputs": [],
   "source": [
    "import pandas as pd\n",
    "a={\"calories\": [420, 380, 390],\n",
    "  \"duration\": [50, 40, 45]}\n",
    "df=pd.DataFrame(a)"
   ]
  },
  {
   "cell_type": "markdown",
   "id": "94f691d2",
   "metadata": {},
   "source": [
    "as we see the rows are labelled with index(0,1,2,3) what if we want to change labels then comes the conc of index"
   ]
  },
  {
   "cell_type": "markdown",
   "id": "57a9116a",
   "metadata": {},
   "source": [
    "# index=[]"
   ]
  },
  {
   "cell_type": "code",
   "execution_count": 5,
   "id": "01eefd11",
   "metadata": {},
   "outputs": [
    {
     "name": "stdout",
     "output_type": "stream",
     "text": [
      "    calories  duration\n",
      "r1       420        50\n",
      "r2       380        40\n",
      "r3       390        45\n"
     ]
    }
   ],
   "source": [
    "import pandas as pd\n",
    "a={\"calories\": [420, 380, 390],\n",
    "  \"duration\": [50, 40, 45]}\n",
    "df=pd.DataFrame(a,index=[\"r1\",\"r2\",\"r3\"])\n",
    "print(df)"
   ]
  },
  {
   "cell_type": "markdown",
   "id": "61a9fdff",
   "metadata": {},
   "source": [
    "what if we want to access a particular the comes the concept of loc[]"
   ]
  },
  {
   "cell_type": "markdown",
   "id": "1a90d8a0",
   "metadata": {},
   "source": [
    "# loc[]\n"
   ]
  },
  {
   "cell_type": "markdown",
   "id": "d422b84e",
   "metadata": {},
   "source": [
    "loc[] on explicitly unindexed dataframe"
   ]
  },
  {
   "cell_type": "code",
   "execution_count": 2,
   "id": "47ab81a6",
   "metadata": {},
   "outputs": [
    {
     "name": "stdout",
     "output_type": "stream",
     "text": [
      "   calories  duration\n",
      "0       420        50\n",
      "1       380        40\n",
      "2       390        45\n",
      "calories    420\n",
      "duration     50\n",
      "Name: 0, dtype: int64\n"
     ]
    }
   ],
   "source": [
    "import pandas as pd\n",
    "a={\"calories\": [420, 380, 390],\n",
    "  \"duration\": [50, 40, 45]}\n",
    "df=pd.DataFrame(a)\n",
    "print(df)\n",
    "print(df.loc[0])#accessing row at index 0"
   ]
  },
  {
   "cell_type": "raw",
   "id": "0b664b99",
   "metadata": {},
   "source": [
    "what if we want to print the above printed row as a dataframe so u need to just add one more [] to loc ==>loc[[index]]"
   ]
  },
  {
   "cell_type": "code",
   "execution_count": 3,
   "id": "d4424f9e",
   "metadata": {},
   "outputs": [
    {
     "name": "stdout",
     "output_type": "stream",
     "text": [
      "   calories  duration\n",
      "0       420        50\n",
      "1       380        40\n",
      "2       390        45\n",
      "printing a row\n",
      "   calories  duration\n",
      "0       420        50\n"
     ]
    }
   ],
   "source": [
    "import pandas as pd\n",
    "a={\"calories\": [420, 380, 390],\n",
    "  \"duration\": [50, 40, 45]}\n",
    "df=pd.DataFrame(a)\n",
    "print(df)\n",
    "print(\"printing a row\")\n",
    "print(df.loc[[0]])#accessing row at index 0"
   ]
  },
  {
   "cell_type": "raw",
   "id": "6175d130",
   "metadata": {},
   "source": [
    "printing some x no.of rows"
   ]
  },
  {
   "cell_type": "code",
   "execution_count": 17,
   "id": "ec28d84a",
   "metadata": {},
   "outputs": [
    {
     "name": "stdout",
     "output_type": "stream",
     "text": [
      "   calories  duration\n",
      "0       420        50\n",
      "1       380        40\n",
      "2       390        45\n",
      "\n",
      "\n",
      "printing some x no.of rows\n",
      "   calories  duration\n",
      "0       420        50\n",
      "1       380        40\n"
     ]
    }
   ],
   "source": [
    "import pandas as pd\n",
    "a={\"calories\": [420, 380, 390],\n",
    "  \"duration\": [50, 40, 45]}\n",
    "df=pd.DataFrame(a)\n",
    "print(df)\n",
    "print(\"\\n\")\n",
    "print(\"printing some x no.of rows\")\n",
    "\n",
    "print(df.loc[[0,1]])#accessing row at index 0"
   ]
  },
  {
   "cell_type": "markdown",
   "id": "636294ee",
   "metadata": {},
   "source": [
    "loc[] on explicitly indexed dataframe(for indexed data frame u can acces the rows using 0,1,2 using loc[] if u want to do so u need to use iloc[]"
   ]
  },
  {
   "cell_type": "code",
   "execution_count": 5,
   "id": "e1976ecb",
   "metadata": {},
   "outputs": [
    {
     "name": "stdout",
     "output_type": "stream",
     "text": [
      "    calories  duration\n",
      "r1       420        50\n",
      "\n",
      "\n",
      "printing multiple rows\n",
      "    calories  duration\n",
      "r1       420        50\n",
      "r2       380        40\n"
     ]
    }
   ],
   "source": [
    "import pandas as pd\n",
    "a={\"calories\": [420, 380, 390],\n",
    "  \"duration\": [50, 40, 45]}\n",
    "df=pd.DataFrame(a,index=[\"r1\",\"r2\",\"r3\"])\n",
    "print(df.loc[[\"r1\"]])\n",
    "print(\"\\n\")\n",
    "print('printing multiple rows')\n",
    "print(df.loc[[\"r1\",\"r2\"]])"
   ]
  }
 ],
 "metadata": {
  "kernelspec": {
   "display_name": "Python 3 (ipykernel)",
   "language": "python",
   "name": "python3"
  },
  "language_info": {
   "codemirror_mode": {
    "name": "ipython",
    "version": 3
   },
   "file_extension": ".py",
   "mimetype": "text/x-python",
   "name": "python",
   "nbconvert_exporter": "python",
   "pygments_lexer": "ipython3",
   "version": "3.9.13"
  }
 },
 "nbformat": 4,
 "nbformat_minor": 5
}
