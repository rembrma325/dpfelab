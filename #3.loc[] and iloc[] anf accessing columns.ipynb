{
 "cells": [
  {
   "cell_type": "markdown",
   "id": "676e08af",
   "metadata": {},
   "source": [
    "# How to access a PARTICULAR COLUMN or MULTIPLE COLUMNS"
   ]
  },
  {
   "cell_type": "code",
   "execution_count": 9,
   "id": "5c135a36",
   "metadata": {},
   "outputs": [
    {
     "name": "stdout",
     "output_type": "stream",
     "text": [
      "printing whole columns a\n",
      "1    1\n",
      "2    2\n",
      "3    3\n",
      "Name: a, dtype: int64\n",
      "printing multiple columns\n",
      "   a  b\n",
      "1  1  4\n",
      "2  2  5\n",
      "3  3  6\n"
     ]
    }
   ],
   "source": [
    "import pandas as pd\n",
    "a={\"a\":[1,2,3],\"b\":[4,5,6],\"c\":[7,8,9]}\n",
    "df=pd.DataFrame(a,index=[1,2,3])\n",
    "        #ACCESSING PARTICULAR COLUMN(HERE WE ARE ACCESSING COL \"a\")\n",
    "print(\"printing whole columns a\")\n",
    "print(df[\"a\"])\n",
    "        #Accessing multiple columns to do so we need to pass the columns as list not directly as above df[\"a\",\"b\"]\n",
    "print(\"printing multiple columns\")\n",
    "print(df[[\"a\",\"b\"]])"
   ]
  },
  {
   "cell_type": "markdown",
   "id": "2188f0d9",
   "metadata": {},
   "source": [
    "# How to access a PARTICULAR ROW or MULTIPLE ROWS"
   ]
  },
  {
   "cell_type": "raw",
   "id": "e9b2b90a",
   "metadata": {},
   "source": [
    "analysis after going through below things:\n",
    "    1)loc[] =for accessing labelled rows using labels and unlabelled rows using normal index(0,1,2,3)\n",
    "    2)iloc[]=for accessing labelled row using normal index(0,1,2,3,4) as well as unlabelled rowsusing normal index(0,1,2,3,4)"
   ]
  },
  {
   "cell_type": "markdown",
   "id": "0ace6be1",
   "metadata": {},
   "source": [
    "# accessing a row using loc[]"
   ]
  },
  {
   "cell_type": "raw",
   "id": "ffcc9814",
   "metadata": {},
   "source": [
    "\n",
    "loc[]:\n",
    "    1)loc is used to access a row when we are know with the index of that row by passing the index of that row\n",
    "    2)the index of the row might be of any data type say 1 or \"a\" then loc[1],loc[\"a\"] respectively\n",
    "NOTE:if the df or series are not indexed then in that case u can access the row by passing normal indexes(0,1,2,3,4) BUT if at all the data frame or series are indexed then in that case u cant access them directly using (0,1,2,3,4) u should use the particular label for sure "
   ]
  },
  {
   "cell_type": "code",
   "execution_count": 50,
   "id": "6a0fc2fb",
   "metadata": {},
   "outputs": [
    {
     "name": "stdout",
     "output_type": "stream",
     "text": [
      "Data Frame:\n",
      "       a     b     c\n",
      "r1  r1c1  r1c2  r1c3\n",
      "r2  r2c1  r2c2  r2c3\n",
      "r3  r3c1  r3c2  r3c3 \n",
      "\n",
      "printing the row with index \"r2\"(here it is second row)\n",
      "a    r2c1\n",
      "b    r2c2\n",
      "c    r2c3\n",
      "Name: r2, dtype: object \n",
      "\n",
      "printing the row with index \"r2\"(here it is second row) as df\n",
      "       a     b     c\n",
      "r2  r2c1  r2c2  r2c3 \n",
      "\n",
      "accessing when the indexes are 1,2,3 i.e numericals\n",
      "\n",
      "a    r2c1\n",
      "b    r2c2\n",
      "c    r2c3\n",
      "Name: 5, dtype: object \n",
      "\n",
      "accessing rows when we havent given any index\n",
      "a    r1c1\n",
      "b    r1c2\n",
      "c    r1c3\n",
      "Name: 0, dtype: object\n"
     ]
    }
   ],
   "source": [
    "import pandas as pd\n",
    "ab={\"a\":[\"r1c1\",\"r2c1\",\"r3c1\"],\"b\":[\"r1c2\",\"r2c2\",\"r3c2\"],\"c\":[\"r1c3\",\"r2c3\",\"r3c3\"]}\n",
    "df1=pd.DataFrame(ab,index=[\"r1\",\"r2\",\"r3\"])\n",
    "print(\"Data Frame:\")\n",
    "print(df1,\"\\n\")\n",
    "\n",
    "        #accessing the rows when indexes are strings\n",
    "#see here let us access the second row we know that here the index of second row is \"r2\" so:\n",
    "print(\"printing the row with index \\\"r2\\\"(here it is second row)\")#note to use \"\" inside a \"\" u need to use escape \\\n",
    "print(df1.loc[\"r2\"],\"\\n\")\n",
    "print(\"printing the row with index \\\"r2\\\"(here it is second row) as df\")\n",
    "print(df1.loc[[\"r2\"]],\"\\n\")\n",
    "\n",
    "        #accessing row when the indexes are numericals\n",
    "print(\"accessing when the indexes are 1,2,3 i.e numericals\")\n",
    "abc={\"a\":[\"r1c1\",\"r2c1\",\"r3c1\"],\"b\":[\"r1c2\",\"r2c2\",\"r3c2\"],\"c\":[\"r1c3\",\"r2c3\",\"r3c3\"]}\n",
    "print(\"\")\n",
    "df2=pd.DataFrame(abc,index=[4,5,6])\n",
    "print(df2.loc[5],\"\\n\")\n",
    "\n",
    "        #accessing rows when we havent given any index\n",
    "ab44={\"a\":[\"r1c1\",\"r2c1\",\"r3c1\"],\"b\":[\"r1c2\",\"r2c2\",\"r3c2\"],\"c\":[\"r1c3\",\"r2c3\",\"r3c3\"]}\n",
    "df44=pd.DataFrame(ab4)\n",
    "#now the index will be default which means for (row1 index=0,row2 index=1 and so on)\n",
    "print(\"accessing rows when we havent given any index\")\n",
    "print(df44.loc[0])\n",
    "\n",
    "\n",
    "\n",
    "\n",
    "#NOTE:::\n",
    "#.     when the indexes are specified u cant acces rows with defaullt indices 0,1,2,3 unless the indexes of rows are 0,1,2,3 or the indexes arent sepcifies let us see with an example\n",
    "a7={\"a\":[\"r1c1\",\"r2c1\",\"r3c1\"],\"b\":[\"r1c2\",\"r2c2\",\"r3c2\"],\"c\":[\"r1c3\",\"r2c3\",\"r3c3\"]}\n",
    "df7=pd.DataFrame(a7,index=[\"k\",\"l\",\"m\"])\n",
    "#print(df7.loc[0]) #this shows error bcz when we are using loc[] for sure we need to pass index of a row"
   ]
  },
  {
   "cell_type": "raw",
   "id": "fe955c07",
   "metadata": {},
   "source": [
    "above we are known with the indexes of the rows so we using loc[] and passing the index of a row we accessed rows but what if we wanted to print or access a row when we are not know with the index of a row but know with the the which no of row it is in the data frame\n",
    "    THEN in the above situtation the concept of iloc[] "
   ]
  },
  {
   "cell_type": "markdown",
   "id": "e2788e8d",
   "metadata": {},
   "source": [
    "# accessing a row using iloc[]"
   ]
  },
  {
   "cell_type": "raw",
   "id": "3b5b3be3",
   "metadata": {},
   "source": [
    "iloc[]::\n",
    "        1)iloc[] is used to access a row when we are not known with the index of a row but we know no of order of         that row in the data frame  so then based on that assume the indexes are default indices eventhough they           have different indexes"
   ]
  },
  {
   "cell_type": "code",
   "execution_count": 4,
   "id": "6ef7094a",
   "metadata": {},
   "outputs": [
    {
     "name": "stdout",
     "output_type": "stream",
     "text": [
      "      a     b     c\n",
      "k  r1c1  r1c2  r1c3\n"
     ]
    }
   ],
   "source": [
    "import pandas as pd\n",
    "a7={\"a\":[\"r1c1\",\"r2c1\",\"r3c1\"],\"b\":[\"r1c2\",\"r2c2\",\"r3c2\"],\"c\":[\"r1c3\",\"r2c3\",\"r3c3\"]}\n",
    "df7=pd.DataFrame(a7,index=[\"k\",\"l\",\"m\"])\n",
    "print(df7.iloc[[0]])#see here the indexes are \"k\",\"l\",\"m\" but we are accessing with default indexes(0,1,2) #index start with 0\n",
    "#print(df.loc[0])# =gives error"
   ]
  },
  {
   "cell_type": "markdown",
   "id": "183308a6",
   "metadata": {},
   "source": [
    "# accessing multiple rows and columns using loc[] and iloc[]"
   ]
  },
  {
   "cell_type": "code",
   "execution_count": 5,
   "id": "85142824",
   "metadata": {},
   "outputs": [
    {
     "name": "stdout",
     "output_type": "stream",
     "text": [
      "accessing multiple rows using iloc[]\n",
      "      a     b     c\n",
      "k  r1c1  r1c2  r1c3\n",
      "l  r2c1  r2c2  r2c3 \n",
      "\n",
      "accessing multiple rows using loc[]\n",
      "      a     b     c\n",
      "k  r1c1  r1c2  r1c3\n",
      "l  r2c1  r2c2  r2c3 \n",
      "\n"
     ]
    }
   ],
   "source": [
    "a7={\"a\":[\"r1c1\",\"r2c1\",\"r3c1\"],\"b\":[\"r1c2\",\"r2c2\",\"r3c2\"],\"c\":[\"r1c3\",\"r2c3\",\"r3c3\"]}\n",
    "df7=pd.DataFrame(a7,index=[\"k\",\"l\",\"m\"])\n",
    "\n",
    "        #accessing multiple rows using iloc[]\n",
    "print(\"accessing multiple rows using iloc[]\")\n",
    "print(df7.iloc[[0,1]],\"\\n\")\n",
    "\n",
    "         #accessing multiple rows using loc[]\n",
    "print(\"accessing multiple rows using loc[]\")\n",
    "print(df7.loc[[\"k\",\"l\"]],\"\\n\")"
   ]
  }
 ],
 "metadata": {
  "kernelspec": {
   "display_name": "Python 3 (ipykernel)",
   "language": "python",
   "name": "python3"
  },
  "language_info": {
   "codemirror_mode": {
    "name": "ipython",
    "version": 3
   },
   "file_extension": ".py",
   "mimetype": "text/x-python",
   "name": "python",
   "nbconvert_exporter": "python",
   "pygments_lexer": "ipython3",
   "version": "3.9.13"
  },
  "vscode": {
   "interpreter": {
    "hash": "31f2aee4e71d21fbe5cf8b01ff0e069b9275f58929596ceb00d14d90e3e16cd6"
   }
  }
 },
 "nbformat": 4,
 "nbformat_minor": 5
}
