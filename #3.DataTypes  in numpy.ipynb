{
 "cells": [
  {
   "cell_type": "code",
   "execution_count": null,
   "id": "17c83d89",
   "metadata": {},
   "outputs": [],
   "source": [
    "\"\"\"\n",
    "i=integer\n",
    "u=unsigned integer\n",
    "f=float\n",
    "c=complex float\n",
    "S=string\n",
    "U=unicode string\n",
    "b - boolean\n",
    "m - timedelta\n",
    "M - datetime\n",
    "O - object\n",
    "V - fixed chunk of memory for other type ( void )\n",
    "\"\"\""
   ]
  },
  {
   "cell_type": "code",
   "execution_count": 4,
   "id": "7102be3b",
   "metadata": {},
   "outputs": [
    {
     "name": "stdout",
     "output_type": "stream",
     "text": [
      "int64\n",
      "<U1\n",
      "<U1\n",
      "|S1\n"
     ]
    }
   ],
   "source": [
    "import numpy as np\n",
    "a=np.array([1,2,3])\n",
    "print(a.dtype)\n",
    "b=np.array(['a','b','c'])\n",
    "print(b.dtype)\n",
    "c=np.array(['1','2','3'])\n",
    "print(c.dtype)\n",
    "d=np.array(['a','b','c'],dtype=\"S\")\n",
    "print(d.dtype)"
   ]
  },
  {
   "cell_type": "code",
   "execution_count": 11,
   "id": "38b98395",
   "metadata": {},
   "outputs": [
    {
     "name": "stdout",
     "output_type": "stream",
     "text": [
      "<U6\n"
     ]
    }
   ],
   "source": [
    "arr = np.array(['apple', 'banana', 'cherry'])\n",
    "print(arr.dtype)\n"
   ]
  },
  {
   "cell_type": "markdown",
   "id": "fb653919",
   "metadata": {},
   "source": [
    "#explanation for above code\n",
    "he output would be dtype('<U6'), which represents the data type of the elements in the NumPy array arr. The dtype attribute returns a description of the data type of the elements in the array.\n",
    "\n",
    "In this case, '<U6' represents a string with a maximum length of 6 characters, stored in little-endian format (<) and with a Unicode encoding (U). Since the longest string in the array arr is \"banana\" which has 6 characters, the data type of the elements in the array is set to '<U6'."
   ]
  },
  {
   "cell_type": "markdown",
   "id": "a6b8c11a",
   "metadata": {},
   "source": [
    "# TYPE CASTING IN NUMPY OR IN OTHER WORDS CREATING ARRAYS WITH DEFINED DATA TYPE"
   ]
  },
  {
   "cell_type": "code",
   "execution_count": 14,
   "id": "1ddf6ca3",
   "metadata": {},
   "outputs": [
    {
     "name": "stdout",
     "output_type": "stream",
     "text": [
      "[b'1' b'2' b'3' b'4']\n",
      "|S1\n"
     ]
    }
   ],
   "source": [
    "d=np.array([1,2,3,4],dtype=\"S\")\n",
    "print(d)\n",
    "print(d.dtype)"
   ]
  },
  {
   "cell_type": "code",
   "execution_count": 18,
   "id": "f0c3fc29",
   "metadata": {},
   "outputs": [
    {
     "name": "stdout",
     "output_type": "stream",
     "text": [
      "['1' '2' 'a']\n",
      "<U21\n"
     ]
    }
   ],
   "source": [
    "e=np.array([1,2,'a'])\n",
    "print(e)\n",
    "print(e.dtype)"
   ]
  }
 ],
 "metadata": {
  "kernelspec": {
   "display_name": "Python 3 (ipykernel)",
   "language": "python",
   "name": "python3"
  },
  "language_info": {
   "codemirror_mode": {
    "name": "ipython",
    "version": 3
   },
   "file_extension": ".py",
   "mimetype": "text/x-python",
   "name": "python",
   "nbconvert_exporter": "python",
   "pygments_lexer": "ipython3",
   "version": "3.9.13"
  }
 },
 "nbformat": 4,
 "nbformat_minor": 5
}
